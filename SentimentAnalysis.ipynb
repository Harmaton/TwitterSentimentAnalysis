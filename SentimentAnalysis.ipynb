{
  "nbformat": 4,
  "nbformat_minor": 0,
  "metadata": {
    "colab": {
      "name": "SentimentAnalysis.ipynb",
      "provenance": [],
      "collapsed_sections": []
    },
    "kernelspec": {
      "name": "python3",
      "display_name": "Python 3"
    },
    "language_info": {
      "name": "python"
    }
  },
  "cells": [
    {
      "cell_type": "code",
      "execution_count": 1,
      "metadata": {
        "id": "QuMg9Q2qCPcN"
      },
      "outputs": [],
      "source": [
        "#Description: This is a twitter sentiment analysis program that parses the tweets fetched from Twitter Using Python"
      ]
    },
    {
      "cell_type": "code",
      "source": [
        "# Imort the libraries\n",
        "import tweepy\n",
        "import pandas as pd\n",
        "import numpy as np\n",
        "import re\n",
        "from textblob import TextBlob\n",
        "from wordcloud import WordCloud\n",
        "import matplotlib.pyplot as plt\n",
        "plt.style.use('fivethirtyeight')"
      ],
      "metadata": {
        "id": "Jx9gL6stC8ik"
      },
      "execution_count": 2,
      "outputs": []
    },
    {
      "cell_type": "code",
      "source": [
        "#Load the data\n",
        "from google.colab import files\n",
        "uploaded = files.upload()\n"
      ],
      "metadata": {
        "id": "rHiWZQUCDgt9"
      },
      "execution_count": null,
      "outputs": []
    },
    {
      "cell_type": "code",
      "source": [
        "#Get the Data\n",
        "log=pd.read_csv('')\n"
      ],
      "metadata": {
        "id": "3xSTkACEEAaG"
      },
      "execution_count": null,
      "outputs": []
    },
    {
      "cell_type": "code",
      "source": [
        "#Twitter credentials\n",
        "consumerKey=log['key'][0]\n",
        "consumerSecret=log['key'][1]\n",
        "accessToken=log['key'][2]\n",
        "accessTokenSecret=log['key'][3]"
      ],
      "metadata": {
        "id": "fqEF3eWOEMFg"
      },
      "execution_count": null,
      "outputs": []
    },
    {
      "cell_type": "code",
      "source": [
        "#create authentication object\n",
        "authenticate=tweepy.OAuthHandler(consumerKey, consumerSecret)\n",
        "\n",
        "authenticate.set_access_token(accessToken, accessTokenSecret)\n",
        "\n",
        "api=tweepy.API(authenticate, wait_on_rate_limit=True)"
      ],
      "metadata": {
        "id": "zDJmINlZEmgF"
      },
      "execution_count": null,
      "outputs": []
    },
    {
      "cell_type": "code",
      "source": [
        "# Extract 100 tweets from a twitter user\n",
        "posts=api.user_timeline(screen_name=\"Bill Gates\" count= 100 , lang=\"en\" tweet_mode=\"extended\")\n",
        "\n",
        "#print last 5 tweets\n",
        "print(\"show last 5 tweets from the account: \\n\")\n",
        "for tweet in posts[0:5]:\n",
        "  print(str(i) + ') ' + tweet.full_text+'\\n')\n",
        "  i=i+1"
      ],
      "metadata": {
        "id": "RXQZLnUxFi1L"
      },
      "execution_count": null,
      "outputs": []
    },
    {
      "cell_type": "code",
      "source": [
        "#create a dataframe with a column called Tweets\n",
        "df=pd.DataFrame([tweet.full_text for tweet in posts] columns='Tweets')\n",
        "\n",
        "#show first 5 rows\n",
        "\n",
        "df.head()\n"
      ],
      "metadata": {
        "id": "Wnqcgzx2IiDu"
      },
      "execution_count": null,
      "outputs": []
    },
    {
      "cell_type": "code",
      "source": [
        "#clean the text\n",
        "\n",
        "# create a function to clean the tweets\n",
        "def cleanTxt(text)"
      ],
      "metadata": {
        "id": "WXNH2KPjJON1"
      },
      "execution_count": null,
      "outputs": []
    },
    {
      "cell_type": "code",
      "source": [
        ""
      ],
      "metadata": {
        "id": "ZC99C_j4V2id"
      },
      "execution_count": null,
      "outputs": []
    }
  ]
}